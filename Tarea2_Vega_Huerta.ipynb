{
 "cells": [
  {
   "cell_type": "markdown",
   "metadata": {},
   "source": [
    "#Tipos de fronteras en clasificación"
   ]
  },
  {
   "cell_type": "code",
   "execution_count": null,
   "metadata": {},
   "outputs": [],
   "source": [
    "import numpy as np\n",
    "import matplotlib.pyplot as plt\n",
    "\n",
    "import warnings\n",
    "warnings.filterwarnings(\"ignore\")\n",
    "\n",
    "def do_gaussianXOR(n1=250,n2=250):\n",
    "    rng = np.random.RandomState(0)\n",
    "    u = 0.5\n",
    "    std = 0.3 #el ruido se agrega aca\n",
    "    primer_c = rng.normal(loc=[u,u],scale=std,size=(n1,2))\n",
    "    segundo_c = rng.normal(loc=[-u,u],scale=std,size=(n2,2))\n",
    "    tercer_c = rng.normal(loc=[-u,-u],scale=std,size=(n1,2))\n",
    "    cuarto_c = rng.normal(loc=[u,-u],scale=std,size=(n2,2))\n",
    "    X_train = np.vstack((primer_c,segundo_c,tercer_c,cuarto_c))\n",
    "    Y_train = np.hstack((np.zeros(n1),np.ones(n2),np.zeros(n1),np.ones(n2)))   \n",
    "    X_test = rng.uniform(low=-1.0,high=1.0,size=( (n1+n2),2))\n",
    "    Y_test = np.logical_xor(X_test[:,0] > 0, X_test[:,1] > 0)\n",
    "    return X_train,Y_train,X_test,Y_test"
   ]
  },
  {
   "cell_type": "markdown",
   "metadata": {},
   "source": [
    "> **a) Construya el conjunto de datos (*dataset*) y describa el proceso de creación de éstos. Determine cuántos registros contiene cada conjunto y visualı́celos.**"
   ]
  },
  {
   "cell_type": "markdown",
   "metadata": {},
   "source": [
    "Se define un randomizador que agregara puntos en el plano cartesiano para los cuatro cuadrantes siguiendo una distribución normal con medias entre [-0.5, 0.5] dependiendo del cuadrante en el cual se agregue, además se establece una desviación estandar de 0.3, se distribuyen los puntos en el set de entrenamiento y se establecen a que clase corresponde cada uno en el set y_train, luego se genera un espacio de testing."
   ]
  },
  {
   "cell_type": "code",
   "execution_count": null,
   "metadata": {},
   "outputs": [],
   "source": [
    "X_train,Y_train,X_test,Y_test = do_gaussianXOR()"
   ]
  },
  {
   "cell_type": "code",
   "execution_count": null,
   "metadata": {},
   "outputs": [],
   "source": [
    "print(\"Dimensiones conjunto de entrenamiento: \"+ str(X_train.shape))\n",
    "print(\"Dimensiones conjunto de pruebas: \"+ str(X_test.shape))"
   ]
  },
  {
   "cell_type": "markdown",
   "metadata": {},
   "source": [
    "El conjunto de entrenamiento cuenta con 1000 ejemplos bi-dimensionales. El conjunto de pruebas contiene 500 ejemplos."
   ]
  },
  {
   "cell_type": "code",
   "execution_count": null,
   "metadata": {},
   "outputs": [],
   "source": [
    "plt.figure(figsize=(15,7))\n",
    "plt.subplot(121)\n",
    "plt.title(\"Scatter plot Training\")\n",
    "plt.xlabel(\"X1\")\n",
    "plt.ylabel(\"X2\")\n",
    "for i in range(len(X_train)):\n",
    "  if Y_train[i] == 0:\n",
    "    plt.scatter(X_train[i,0],X_train[i,1], c=\"orange\")\n",
    "  else:\n",
    "    plt.scatter(X_train[i,0],X_train[i,1], c=\"green\")\n",
    "plt.subplot(122)\n",
    "plt.title(\"Scatter plot Testing\")\n",
    "plt.xlabel(\"X1\")\n",
    "plt.ylabel(\"X2\")\n",
    "for i in range(len(X_test)):\n",
    "  if Y_test[i] == 0:\n",
    "    plt.scatter(X_test[i,0],X_test[i,1], c=\"orange\")\n",
    "  else:\n",
    "    plt.scatter(X_test[i,0],X_test[i,1], c=\"green\")\n",
    "plt.show()"
   ]
  },
  {
   "cell_type": "markdown",
   "metadata": {},
   "source": [
    "<font size=\"5\">ACÁ DESCRIPCIÓN DEL GRÁFICO c:</font>"
   ]
  },
  {
   "cell_type": "code",
   "execution_count": null,
   "metadata": {},
   "outputs": [],
   "source": [
    "import matplotlib.pyplot as plt\n",
    "def visualize_border(model,x,y,title=\"\"):\n",
    "    fig, axis = plt.subplots(1, 1,figsize=(12, 6))\n",
    "\n",
    "    plt.scatter(x[:,0], x[:,1], s=50, c=y, cmap=plt.cm.winter)\n",
    "    h = .02 # step size in the mesh\n",
    "    x_min, x_max = x[:, 0].min() - 1, x[:, 0].max() + 1\n",
    "    y_min, y_max = x[:, 1].min() - 1, x[:, 1].max() + 1\n",
    "    xx, yy = np.meshgrid(np.arange(x_min, x_max, h),np.arange(y_min, y_max, h))\n",
    "\n",
    "    Z = model.predict(np.c_[xx.ravel(), yy.ravel()]) #or predict_proba\n",
    "    Z = Z.reshape(xx.shape)\n",
    "    Zplot = Z > 0.5\n",
    "\n",
    "    axis.scatter(x[:,0],x[:,1],s=50,c=y,zorder=10,cmap=plt.cm.winter)\n",
    "    axis.contour(xx, yy, Z,levels=[-1, 0, 1])\n",
    "    axis.pcolormesh(xx, yy, Zplot ,cmap=plt.cm.YlGn)\n",
    "    plt.title(title)\n",
    "    plt.show()"
   ]
  },
  {
   "cell_type": "markdown",
   "metadata": {},
   "source": [
    "> **b) Entrene el clasificador Linear Discriminant Analysis (LDA) y visualice la frontera de decisión que define este algoritmo. Comente cualitativamente lo que observa.**"
   ]
  },
  {
   "cell_type": "code",
   "execution_count": null,
   "metadata": {},
   "outputs": [],
   "source": [
    "from sklearn.discriminant_analysis import LinearDiscriminantAnalysis as LDA\n",
    "\n",
    "def do_LDA(X, Y):\n",
    "  model = LDA()\n",
    "  model.fit(X, Y)\n",
    "  return model"
   ]
  },
  {
   "cell_type": "code",
   "execution_count": null,
   "metadata": {},
   "outputs": [],
   "source": [
    "lda = do_LDA(X_train, Y_train)\n",
    "visualize_border(lda, X_train, Y_train, \"LDA\")"
   ]
  },
  {
   "cell_type": "markdown",
   "metadata": {},
   "source": [
    "# COMPLETAR MÁS\n",
    "Debería tener el mismo comportamiento que un clasificador que elija de manera aleatoria que clase asignar, debido a que se observa que la frontera obtenida clasificará mal aproximadamente el 50% de los datos."
   ]
  },
  {
   "cell_type": "markdown",
   "metadata": {},
   "source": [
    "> **c) Entrene el clasificador Quadratic Discriminant Analysis (QDA) y visualice la frontera de decisión que define este algoritmo. Analice cualitativamente lo que observa y compare con LDA, en qué difieren y en qué se asemejan ¿Qué distribución de probabilidad asumen cada uno?**"
   ]
  },
  {
   "cell_type": "code",
   "execution_count": null,
   "metadata": {},
   "outputs": [],
   "source": [
    "from sklearn.discriminant_analysis import QuadraticDiscriminantAnalysis as QDA\n",
    "\n",
    "def do_QDA(X, Y):\n",
    "  model = QDA()\n",
    "  model.fit(X, Y)\n",
    "  return model"
   ]
  },
  {
   "cell_type": "code",
   "execution_count": null,
   "metadata": {},
   "outputs": [],
   "source": [
    "qda = do_QDA(X_train, Y_train)\n",
    "visualize_border(qda, X_train, Y_train, \"QDA\")"
   ]
  },
  {
   "cell_type": "markdown",
   "metadata": {},
   "source": [
    "> **d) Demuestre experimentalmente que una Máquina de Vectores de Soporte (SVM) Lineal no puede resolver el problema, para esto construyala a través de sklearn. Mediante la widget interactiva explore diferentes valores del parámetro de regularización  $C$. Analice cualitativamente lo observado, para validar su análisis cualitativo calcule el accuracy sobre el conjunto de pruebas. **"
   ]
  },
  {
   "cell_type": "code",
   "execution_count": null,
   "metadata": {},
   "outputs": [],
   "source": [
    "from sklearn.svm import SVC as SVM #SVC is for classification\n",
    "def train_model(param, kernel='linear', degree=3):\n",
    "    model= SVM()\n",
    "    C = 10**(param)\n",
    "    print(\"Param C= \",C)\n",
    "    model.set_params(C=C,kernel=kernel, degree=degree)\n",
    "    model.fit(X_train,Y_train)\n",
    "    print(\"Test Accuracy: \",model.score(X_test,Y_test))\n",
    "    return model\n",
    "  \n",
    "from ipywidgets import interactive\n",
    "\n",
    "def visualize_border_interactive(param):\n",
    "    model = train_model(param)\n",
    "    visualize_border(model,X_train,Y_train) #here choose train/test or both!\n",
    "    \n",
    "p_min = -6 #define your range\n",
    "p_max = 4 #define your range\n",
    "interactive(visualize_border_interactive,param=(p_min,p_max))"
   ]
  },
  {
   "cell_type": "code",
   "execution_count": null,
   "metadata": {},
   "outputs": [],
   "source": [
    "p_min = -6 #define your range\n",
    "p_max = 4 #define your range\n",
    "def visualize_border_kernel(param, kernel='linear', degree=3):\n",
    "    model = train_model(param, kernel, degree)\n",
    "    visualize_border(model,X_train,Y_train)\n",
    "    \n",
    "interactive(visualize_border_kernel,param=(p_min,p_max))"
   ]
  },
  {
   "cell_type": "code",
   "execution_count": null,
   "metadata": {},
   "outputs": [],
   "source": [
    "from sklearn.tree import DecisionTreeClassifier as Tree\n",
    "\n",
    "def train_model_tree(param):\n",
    "    model = Tree()\n",
    "    print(\"Depth= \",param)\n",
    "    model.set_params(max_depth=param,criterion='gini',splitter='best')\n",
    "    model.fit(X_train,Y_train)\n",
    "    print(\"Test Accuracy: \",model.score(X_test,Y_test))\n",
    "    return model\n",
    "\n",
    "def visualize_border_interactive_tree(param):\n",
    "    model = train_model_tree(param)\n",
    "    visualize_border(model,X_train,Y_train) #here choose train/test or both!\n",
    "\n",
    "p_min = 1 #define your range\n",
    "p_max = 40 #define your range\n",
    "interactive(visualize_border_interactive_tree,param=(p_min,p_max))"
   ]
  },
  {
   "cell_type": "code",
   "execution_count": null,
   "metadata": {},
   "outputs": [],
   "source": [
    "from keras.models import Sequential\n",
    "from keras.layers import Dense\n",
    "from keras.optimizers import SGD\n",
    "\n",
    "def train_model(param):\n",
    "    n_h=2**(param)\n",
    "    print(\"Neuron hidden = \",n_h)\n",
    "    model = Sequential()\n",
    "    model.add(Dense(n_h, input_dim=X_train.shape[1], activation=\"relu\"))\n",
    "    model.add(Dense(1, activation=\"sigmoid\"))\n",
    "    model.compile(optimizer=SGD(lr=0.1), loss=\"binary_crossentropy\", metrics=[\"accuracy\"])\n",
    "    model.fit(X_train, Y_train, epochs=25, batch_size=128, verbose=0)\n",
    "    print(\"Test Accuracy: \",model.evaluate(X_test, Y_test,batch_size=128,verbose=0)[1])\n",
    "    return model\n",
    "\n",
    "p_min = 0 #define your range\n",
    "p_max = 10 #define your range\n",
    "interactive(visualize_border_interactive,param=(p_min,p_max))"
   ]
  },
  {
   "cell_type": "code",
   "execution_count": null,
   "metadata": {},
   "outputs": [],
   "source": []
  },
  {
   "cell_type": "code",
   "execution_count": null,
   "metadata": {},
   "outputs": [],
   "source": []
  },
  {
   "cell_type": "code",
   "execution_count": null,
   "metadata": {},
   "outputs": [],
   "source": []
  },
  {
   "cell_type": "code",
   "execution_count": null,
   "metadata": {},
   "outputs": [],
   "source": []
  },
  {
   "cell_type": "markdown",
   "metadata": {},
   "source": [
    "# Un problema multilabel"
   ]
  },
  {
   "cell_type": "markdown",
   "metadata": {},
   "source": [
    "> a) Cargue los datos del *output* del modelo (*labels*), descríbalos ¿Cuántos ejemplos hay por cada clase?"
   ]
  },
  {
   "cell_type": "code",
   "execution_count": null,
   "metadata": {
    "scrolled": false
   },
   "outputs": [],
   "source": [
    "import pandas as pd\n",
    "import numpy as np\n",
    "\n",
    "import warnings\n",
    "\n",
    "warnings.filterwarnings(\"ignore\")\n",
    "\n",
    "y1 = pd.read_csv(\"NUS-WIDE-Lite/NUS-WIDE-Lite_groundtruth/Lite_GT_Train.txt\",delimiter=\"\\s\",header=None)\n",
    "y = y1.values\n",
    "print(y.shape)\n",
    "y1.head()"
   ]
  },
  {
   "cell_type": "markdown",
   "metadata": {},
   "source": [
    "80?"
   ]
  },
  {
   "cell_type": "markdown",
   "metadata": {},
   "source": [
    "> b) Visualice el tema de que un dato  (imagen en este caso) puede tener múltiples etiquetas. Comente sobre la definición del problema *multi-label* y cómo aplica en este caso."
   ]
  },
  {
   "cell_type": "code",
   "execution_count": null,
   "metadata": {},
   "outputs": [],
   "source": [
    "import urllib.request, re\n",
    "\n",
    "label_names = np.loadtxt(\"Concepts81.txt\",dtype='object')\n",
    "arch = open(\"NUS-WIDE-urls.txt\",'r') #lectura para mapeo de link a url\n",
    "regex = re.compile(\"\\s+\")\n",
    "image2url = {}\n",
    "for line in arch.readlines():\n",
    "    aux = regex.split(line.strip())\n",
    "    image = aux[0].split(\"Flickr\\\\\")[-1]\n",
    "    url_m = aux[3]\n",
    "    image2url[image] = url_m\n",
    "arch.close()\n",
    "arch = open(\"NUS-WIDE-Lite/image list/Train_imageOutPutFileList.txt\",'r')\n",
    "data_urls = [image2url[line.strip()] for line in arch.readlines()]\n",
    "arch.close()\n",
    "\n",
    "\"\"\"Visualizacion\"\"\"\n",
    "from PIL import Image\n",
    "s = np.random.randint(0,len(data_urls)) #mostrar para una imagen random\n",
    "category_sample = np.where(y[s]==1)[0] \n",
    "print(\"Etiquetas de la imagen :\",label_names[category_sample])\n",
    "im = Image.open(urllib.request.urlopen(data_urls[s]))\n",
    "im"
   ]
  },
  {
   "cell_type": "markdown",
   "metadata": {},
   "source": [
    "Multilabel es una extensión del problema de clasificación en el cual un input puede tener un output que es combinación de multiples labels.\n",
    "\n",
    "En este caso se esta viendo una imagen de un paisaje en el cual existen multiples elementos que lo conforman pero la imagen no se etiqueta como el concepto de tipo de paisaje, sino que etiquetan los elementos que la conforman. Es por esto que una imagen puede tener tantas etiquetas como tipos de objetos conforman la imagen."
   ]
  },
  {
   "cell_type": "markdown",
   "metadata": {},
   "source": [
    "> c) Comente sobre la **representación** que posee la salida de los modelos (*labels*) ¿En qué dominio habita? ¿Tiene restricciones?"
   ]
  },
  {
   "cell_type": "markdown",
   "metadata": {},
   "source": [
    "Cuando se trabaja con un problema de clasificación es necesario representar la salida como un valor numero indicando la clase a la que corresponde el caso, para un caso de clasificación se puede utilizar una notación 0 y 1, para multi clases basta con un valor numerico, en este caso en cambio, se puede utilizar un vector binario marcando un 1 cuando el elemento j del vector se encuentra dentro de la imagen i y 0 cuando no.\n",
    "\n",
    "SACAR DOM y RESTRICCIONES"
   ]
  },
  {
   "cell_type": "markdown",
   "metadata": {},
   "source": [
    "> d) Decida sobre una **representación**, en este caso descriptores, para la entrada a los modelos (*input*), puede utilizar la mezcla entre distintos descriptores, comente sobre la elección y qué representa.\n",
    "\n",
    "*Recuerde que siempre puede optar por muestrear y así achicar los datos de entrenamiento por temas de cómputo*"
   ]
  },
  {
   "cell_type": "code",
   "execution_count": null,
   "metadata": {},
   "outputs": [],
   "source": [
    "from sklearn.utils import resample\n",
    "\n",
    "file = \"Normalized_CH_Lite_Train.dat\" or \"Normalized_CM55_Lite_Train.dat\"\n",
    "descriptors1 = pd.read_csv(\"NUS-WIDE-Lite/NUS-WIDE-Lite_features/\"+file,delimiter=\"\\s\",header=None)\n",
    "descriptors, y2 = resample(descriptors1, y, n_samples=10000)\n",
    "descriptors = descriptors.values\n",
    "descriptors.shape, y2.shape"
   ]
  },
  {
   "cell_type": "markdown",
   "metadata": {},
   "source": [
    "> e) Deje un conjunto separado para evaluar los modelos y comportar como conjunto de pruebas, además de realizar la clásica estandarización de las entradas de los modelos."
   ]
  },
  {
   "cell_type": "code",
   "execution_count": null,
   "metadata": {},
   "outputs": [],
   "source": [
    "from sklearn.model_selection import train_test_split\n",
    "\n",
    "X_train,X_test,y_train,y_test = train_test_split(descriptors,y2,test_size=0.33)\n",
    "\n",
    "from sklearn.preprocessing import StandardScaler\n",
    "\n",
    "std = StandardScaler()\n",
    "std.fit(X_train)\n",
    "X_train = std.transform(X_train)\n",
    "X_test = std.transform(X_test)"
   ]
  },
  {
   "cell_type": "markdown",
   "metadata": {},
   "source": [
    "> f) Se presenta una métrica para validar en el código a continuación, la cual mide la cantidad de aciertos a las *labels* que tenga un dato de manera normalizada. Defina **otra** métrica a utilizar con el propósito de validar lo mismo (el desempeño de un modelo)."
   ]
  },
  {
   "cell_type": "code",
   "execution_count": null,
   "metadata": {},
   "outputs": [],
   "source": [
    "def evaluation_metric(y_true,y_pred):\n",
    "    suma = 0.\n",
    "    for y,yp in zip(y_true,y_pred):\n",
    "        suma += np.dot(y,yp) / np.sum(y)  #cantidad de valores iguales\n",
    "    return suma/float(len(y_true))\n",
    "\n",
    "from sklearn.metrics import classification_report\n",
    "from sklearn.metrics import accuracy_score\n",
    "\n",
    "def evaluation_metric2(y_true, y_pred):\n",
    "    return accuracy_score(y_true, y_pred)"
   ]
  },
  {
   "cell_type": "markdown",
   "metadata": {},
   "source": [
    "> g) Experimente en resolver el problema con un Árbol de Decisión (varíando los hiper-parámetros estructurales), el cual a través de *sklearn* se puede extender de manera sencilla a *multi-label* [[4]](#refs). Mida las métricas de desempeño definidas anteriormente sobre ambos conjuntos (entrenamiento y pruebas), comente."
   ]
  },
  {
   "cell_type": "code",
   "execution_count": null,
   "metadata": {},
   "outputs": [],
   "source": [
    "from sklearn.tree import DecisionTreeClassifier as Tree\n",
    "\n",
    "def do_Tree(depth=10, criterion='gini', splitter='best'):\n",
    "    model = Tree() \n",
    "    model.set_params(max_depth=10,criterion='gini',splitter='best')\n",
    "    model.fit(X_train,y_train)\n",
    "    y_pred = model.predict(X_test)\n",
    "    return model, y_pred\n",
    "    \n",
    "\n",
    "tree, y_pred1 = do_Tree(10, 'entropy', 'best')\n",
    "\n"
   ]
  },
  {
   "cell_type": "code",
   "execution_count": null,
   "metadata": {},
   "outputs": [],
   "source": [
    "print(\"metrica 1:\", evaluation_metric(y_test,y_pred1))\n",
    "print(\"metrica 2:\", evaluation_metric2(y_test, y_pred1))"
   ]
  },
  {
   "cell_type": "markdown",
   "metadata": {},
   "source": [
    "> h) Experimente en resolver el problema con una Máquina de Soporte Vectorial no lineal (varíando los hiper-parámetros estructurales), el cual a través de *sklearn* se puede extender a *multi-label* a través de la técnica **OneVsRest**. Mida las métricas de desempeño al igual que para el Árbol de Decisión, comente y compare sobre las métricas y los tiempos de ejecución."
   ]
  },
  {
   "cell_type": "code",
   "execution_count": null,
   "metadata": {},
   "outputs": [],
   "source": [
    "from sklearn.svm import SVC as SVM #SVC is for classification\n",
    "from sklearn.multiclass import OneVsRestClassifier\n",
    "\n",
    "def do_SVM(c = 1, kernel='rbf'):\n",
    "    model= SVM()\n",
    "    model.set_params(C=c,kernel=kernel)\n",
    "    meta_model = OneVsRestClassifier(model)\n",
    "    meta_model.fit(X_train,y_train)\n",
    "    y_pred = meta_model.predict(X_test)\n",
    "    return model, y_pred\n",
    "\n",
    "svm, y_pred2 = do_SVM(1, 'rbf')"
   ]
  },
  {
   "cell_type": "code",
   "execution_count": null,
   "metadata": {},
   "outputs": [],
   "source": [
    "print(\"metrica 1:\", evaluation_metric(y_test,y_pred2))\n",
    "print(\"metrica 2:\", evaluation_metric2(y_test, y_pred2))"
   ]
  },
  {
   "cell_type": "markdown",
   "metadata": {},
   "source": [
    "> i) Experimente en resolver el problema con una Red Neuronal *Feed Forward* (decida el número de capas y el número de neuronas, si desea puede utilizar las por defecto). Éste modelo se extiende a *multi-label* a través de la interfaz de *keras* seleccionando una *loss* adecuada, en este caso **binary cross entropy** ¿Por qué?"
   ]
  },
  {
   "cell_type": "code",
   "execution_count": null,
   "metadata": {
    "scrolled": false
   },
   "outputs": [],
   "source": [
    "from keras.models import Sequential\n",
    "from keras.layers import Dense\n",
    "from keras.optimizers import SGD\n",
    "\n",
    "def do_NFF():\n",
    "    model = Sequential()\n",
    "    model.add(Dense(256, input_dim=X_train.shape[1], activation=\"relu\"))\n",
    "    model.add(Dense(128, activation=\"relu\"))\n",
    "    model.add(Dense(y_train.shape[1], activation=\"sigmoid\"))\n",
    "    model.compile(optimizer=SGD(lr=0.1), loss=\"binary_crossentropy\")\n",
    "    model.fit(X_train, y_train, epochs=50, batch_size=128, verbose=1)\n",
    "    return model\n",
    "\n",
    "nff = do_NFF()"
   ]
  },
  {
   "cell_type": "code",
   "execution_count": null,
   "metadata": {},
   "outputs": [],
   "source": [
    "def transform(prob_pred):\n",
    "    for i in prob_pred:\n",
    "        for j in range(len(i)):\n",
    "            if i[j] >= 0.7:\n",
    "                i[j] = 1\n",
    "            else:\n",
    "                i[j] = 0\n",
    "    return prob_pred"
   ]
  },
  {
   "cell_type": "markdown",
   "metadata": {},
   "source": [
    "> j)  Realice predicciones **probabilísticas** de su modelo ¿Las probabilidades están normalizadas? ¿Por qué? Además defina una forma para pasar de la representación de las probabilidades a la representación de *labels* categoricos definidos como en c).  \n",
    "*Hint: Recuerde que el no pertenecer a ninguna *label*/etiqueta es una posibilidad!!*"
   ]
  },
  {
   "cell_type": "code",
   "execution_count": null,
   "metadata": {},
   "outputs": [],
   "source": [
    "prob_pred = nff.predict(X_test)\n",
    "y_pred3 = transform(prob_pred)\n",
    "print(prob_pred)"
   ]
  },
  {
   "cell_type": "markdown",
   "metadata": {},
   "source": [
    "> k) Ahora que recuperó la representación de las *labels* mida las métricas de desempeño sobre la Red Neuronal. Compare y comente."
   ]
  },
  {
   "cell_type": "code",
   "execution_count": null,
   "metadata": {},
   "outputs": [],
   "source": [
    "print(\"metrica 1:\", evaluation_metric(y_test,y_pred3))\n",
    "print(\"metrica 2:\", evaluation_metric2(y_test, y_pred3))"
   ]
  },
  {
   "cell_type": "code",
   "execution_count": null,
   "metadata": {},
   "outputs": [],
   "source": []
  },
  {
   "cell_type": "markdown",
   "metadata": {},
   "source": [
    "# Taxi Trip Duration: Predicción de duración de viaje"
   ]
  },
  {
   "cell_type": "code",
   "execution_count": 1,
   "metadata": {},
   "outputs": [],
   "source": [
    "import numpy as np\n",
    "\n",
    "import warnings\n",
    "warnings.filterwarnings(\"ignore\")\n",
    "\n",
    "def rmsle(predicted,real):    \n",
    "    suma=0.0\n",
    "    for x in range(len(predicted)):\n",
    "        p = np.log(abs(predicted[x])+1)\n",
    "        r = np.log(abs(real[x])+1)\n",
    "        suma += np.power((p - r),2)\n",
    "    return np.sqrt(suma/len(predicted))"
   ]
  },
  {
   "cell_type": "markdown",
   "metadata": {},
   "source": [
    "> a) Cargue los datos de entrenamiento como *dataframes* de pandas. Describa las variables involucradas en el problema, explorando el tipo de datos de que se trata, el número de valores distinto. Grafique adecuadamente el valor a predecir con algún gráfico que resuma su comportamiento, e.g. un histograma, boxplot u otro."
   ]
  },
  {
   "cell_type": "code",
   "execution_count": 2,
   "metadata": {},
   "outputs": [
    {
     "name": "stdout",
     "output_type": "stream",
     "text": [
      "<class 'pandas.core.frame.DataFrame'>\n",
      "RangeIndex: 1458644 entries, 0 to 1458643\n",
      "Data columns (total 11 columns):\n",
      "id                    1458644 non-null object\n",
      "vendor_id             1458644 non-null int64\n",
      "pickup_datetime       1458644 non-null object\n",
      "dropoff_datetime      1458644 non-null object\n",
      "passenger_count       1458644 non-null int64\n",
      "pickup_longitude      1458644 non-null float64\n",
      "pickup_latitude       1458644 non-null float64\n",
      "dropoff_longitude     1458644 non-null float64\n",
      "dropoff_latitude      1458644 non-null float64\n",
      "store_and_fwd_flag    1458644 non-null object\n",
      "trip_duration         1458644 non-null int64\n",
      "dtypes: float64(4), int64(3), object(4)\n",
      "memory usage: 122.4+ MB\n"
     ]
    }
   ],
   "source": [
    "import pandas as pd\n",
    "df = pd.read_csv(\"train.zip\")\n",
    "df.info()\n",
    "output = df['trip_duration'].values"
   ]
  },
  {
   "cell_type": "markdown",
   "metadata": {},
   "source": [
    "Se tienen un total de 11 columnas donde la variable a predecir corresponde a trip_duration, los tipos de datos corresponden a tipo objeto, el cual probablemente sea de tipo _date_. Para ver de mejor manera estos tipos de datos se muestran los primeros 5 registros del dataset."
   ]
  },
  {
   "cell_type": "code",
   "execution_count": 3,
   "metadata": {},
   "outputs": [
    {
     "data": {
      "text/html": [
       "<div>\n",
       "<style scoped>\n",
       "    .dataframe tbody tr th:only-of-type {\n",
       "        vertical-align: middle;\n",
       "    }\n",
       "\n",
       "    .dataframe tbody tr th {\n",
       "        vertical-align: top;\n",
       "    }\n",
       "\n",
       "    .dataframe thead th {\n",
       "        text-align: right;\n",
       "    }\n",
       "</style>\n",
       "<table border=\"1\" class=\"dataframe\">\n",
       "  <thead>\n",
       "    <tr style=\"text-align: right;\">\n",
       "      <th></th>\n",
       "      <th>id</th>\n",
       "      <th>vendor_id</th>\n",
       "      <th>pickup_datetime</th>\n",
       "      <th>dropoff_datetime</th>\n",
       "      <th>passenger_count</th>\n",
       "      <th>pickup_longitude</th>\n",
       "      <th>pickup_latitude</th>\n",
       "      <th>dropoff_longitude</th>\n",
       "      <th>dropoff_latitude</th>\n",
       "      <th>store_and_fwd_flag</th>\n",
       "      <th>trip_duration</th>\n",
       "    </tr>\n",
       "  </thead>\n",
       "  <tbody>\n",
       "    <tr>\n",
       "      <th>0</th>\n",
       "      <td>id2875421</td>\n",
       "      <td>2</td>\n",
       "      <td>2016-03-14 17:24:55</td>\n",
       "      <td>2016-03-14 17:32:30</td>\n",
       "      <td>1</td>\n",
       "      <td>-73.982155</td>\n",
       "      <td>40.767937</td>\n",
       "      <td>-73.964630</td>\n",
       "      <td>40.765602</td>\n",
       "      <td>N</td>\n",
       "      <td>455</td>\n",
       "    </tr>\n",
       "    <tr>\n",
       "      <th>1</th>\n",
       "      <td>id2377394</td>\n",
       "      <td>1</td>\n",
       "      <td>2016-06-12 00:43:35</td>\n",
       "      <td>2016-06-12 00:54:38</td>\n",
       "      <td>1</td>\n",
       "      <td>-73.980415</td>\n",
       "      <td>40.738564</td>\n",
       "      <td>-73.999481</td>\n",
       "      <td>40.731152</td>\n",
       "      <td>N</td>\n",
       "      <td>663</td>\n",
       "    </tr>\n",
       "    <tr>\n",
       "      <th>2</th>\n",
       "      <td>id3858529</td>\n",
       "      <td>2</td>\n",
       "      <td>2016-01-19 11:35:24</td>\n",
       "      <td>2016-01-19 12:10:48</td>\n",
       "      <td>1</td>\n",
       "      <td>-73.979027</td>\n",
       "      <td>40.763939</td>\n",
       "      <td>-74.005333</td>\n",
       "      <td>40.710087</td>\n",
       "      <td>N</td>\n",
       "      <td>2124</td>\n",
       "    </tr>\n",
       "    <tr>\n",
       "      <th>3</th>\n",
       "      <td>id3504673</td>\n",
       "      <td>2</td>\n",
       "      <td>2016-04-06 19:32:31</td>\n",
       "      <td>2016-04-06 19:39:40</td>\n",
       "      <td>1</td>\n",
       "      <td>-74.010040</td>\n",
       "      <td>40.719971</td>\n",
       "      <td>-74.012268</td>\n",
       "      <td>40.706718</td>\n",
       "      <td>N</td>\n",
       "      <td>429</td>\n",
       "    </tr>\n",
       "    <tr>\n",
       "      <th>4</th>\n",
       "      <td>id2181028</td>\n",
       "      <td>2</td>\n",
       "      <td>2016-03-26 13:30:55</td>\n",
       "      <td>2016-03-26 13:38:10</td>\n",
       "      <td>1</td>\n",
       "      <td>-73.973053</td>\n",
       "      <td>40.793209</td>\n",
       "      <td>-73.972923</td>\n",
       "      <td>40.782520</td>\n",
       "      <td>N</td>\n",
       "      <td>435</td>\n",
       "    </tr>\n",
       "  </tbody>\n",
       "</table>\n",
       "</div>"
      ],
      "text/plain": [
       "          id  vendor_id      pickup_datetime     dropoff_datetime  \\\n",
       "0  id2875421          2  2016-03-14 17:24:55  2016-03-14 17:32:30   \n",
       "1  id2377394          1  2016-06-12 00:43:35  2016-06-12 00:54:38   \n",
       "2  id3858529          2  2016-01-19 11:35:24  2016-01-19 12:10:48   \n",
       "3  id3504673          2  2016-04-06 19:32:31  2016-04-06 19:39:40   \n",
       "4  id2181028          2  2016-03-26 13:30:55  2016-03-26 13:38:10   \n",
       "\n",
       "   passenger_count  pickup_longitude  pickup_latitude  dropoff_longitude  \\\n",
       "0                1        -73.982155        40.767937         -73.964630   \n",
       "1                1        -73.980415        40.738564         -73.999481   \n",
       "2                1        -73.979027        40.763939         -74.005333   \n",
       "3                1        -74.010040        40.719971         -74.012268   \n",
       "4                1        -73.973053        40.793209         -73.972923   \n",
       "\n",
       "   dropoff_latitude store_and_fwd_flag  trip_duration  \n",
       "0         40.765602                  N            455  \n",
       "1         40.731152                  N            663  \n",
       "2         40.710087                  N           2124  \n",
       "3         40.706718                  N            429  \n",
       "4         40.782520                  N            435  "
      ]
     },
     "execution_count": 3,
     "metadata": {},
     "output_type": "execute_result"
    }
   ],
   "source": [
    "df.head()"
   ]
  },
  {
   "cell_type": "markdown",
   "metadata": {},
   "source": [
    "Lo objetos mencionados anteriormente corresponden a _timestamps_. Por otro lado, se entregan distintas coordenadas para la latitud y la longitud de origen y destino. Se cree que la variable store_and_fwd_flag podría no ser util, debido a que solo indica si la información se guardo en la memoria local del taxi."
   ]
  },
  {
   "cell_type": "code",
   "execution_count": 4,
   "metadata": {},
   "outputs": [
    {
     "name": "stdout",
     "output_type": "stream",
     "text": [
      "Cantidad de valores únicos id: 1458644\n",
      "Cantidad de valores únicos vendor_id: 2\n",
      "Cantidad de valores únicos pickup_datetime: 1380222\n",
      "Cantidad de valores únicos dropoff_datetime: 1380377\n",
      "Cantidad de valores únicos passenger_count: 10\n",
      "Cantidad de valores únicos pickup_longitude: 23047\n",
      "Cantidad de valores únicos pickup_latitude: 45245\n",
      "Cantidad de valores únicos dropoff_longitude: 33821\n",
      "Cantidad de valores únicos dropoff_latitude: 62519\n",
      "Cantidad de valores únicos store_and_fwd_flag: 2\n",
      "Cantidad de valores únicos trip_duration: 7417\n"
     ]
    }
   ],
   "source": [
    "for i in df:\n",
    "    print(\"Cantidad de valores únicos \"+i+\": \"+str(len(df[i].unique())))"
   ]
  },
  {
   "cell_type": "code",
   "execution_count": 5,
   "metadata": {},
   "outputs": [
    {
     "name": "stdout",
     "output_type": "stream",
     "text": [
      "Vendor ID:\n",
      "[2 1]\n",
      "Passenger Count:\n",
      "[1 6 4 2 3 5 0 7 9 8]\n"
     ]
    }
   ],
   "source": [
    "print(\"Vendor ID:\")\n",
    "print(df['vendor_id'].unique())\n",
    "print(\"Passenger Count:\")\n",
    "print(df[\"passenger_count\"].unique())\n"
   ]
  },
  {
   "cell_type": "code",
   "execution_count": 6,
   "metadata": {},
   "outputs": [
    {
     "data": {
      "text/plain": [
       "<Figure size 1500x500 with 2 Axes>"
      ]
     },
     "metadata": {},
     "output_type": "display_data"
    }
   ],
   "source": [
    "import matplotlib.pyplot as plt\n",
    "\n",
    "plt.figure(figsize=(15,5))\n",
    "plt.subplot(121)\n",
    "plt.title(\"Boxplot Trip Duration\")\n",
    "plt.boxplot(output)\n",
    "plt.xlabel(\"Trip Duration\")\n",
    "plt.subplot(122)\n",
    "plt.title(\"Histogram Trip Duration\")\n",
    "plt.hist(output)\n",
    "plt.xlabel(\"Trip Duration\")\n",
    "plt.show()"
   ]
  },
  {
   "cell_type": "markdown",
   "metadata": {},
   "source": [
    "> b) Como puede  observar en los análisis preliminares exiten algunos *outliers* en los datos los cuales pensamos eliminar para que no entorpezca el aprendizaje, además que son muy pocos."
   ]
  },
  {
   "cell_type": "code",
   "execution_count": 7,
   "metadata": {},
   "outputs": [],
   "source": [
    "df = df[(df['trip_duration']<=100000)]\n",
    "output = df['trip_duration'].values\n",
    "df_new = df"
   ]
  },
  {
   "cell_type": "code",
   "execution_count": 8,
   "metadata": {},
   "outputs": [
    {
     "data": {
      "image/png": "[encoded data removed]",
      "text/plain": [
       "<Figure size 1080x360 with 2 Axes>"
      ]
     },
     "metadata": {
      "needs_background": "light"
     },
     "output_type": "display_data"
    }
   ],
   "source": [
    "plt.figure(figsize=(15,5))\n",
    "plt.subplot(121)\n",
    "plt.title(\"Boxplot Trip Duration\")\n",
    "plt.boxplot(output)\n",
    "plt.xlabel(\"Trip Duration\")\n",
    "plt.subplot(122)\n",
    "plt.title(\"Histogram Trip Duration\")\n",
    "plt.hist(output)\n",
    "plt.xlabel(\"Trip Duration\")\n",
    "plt.show()"
   ]
  },
  {
   "cell_type": "markdown",
   "metadata": {},
   "source": [
    "> c) La primera operación que realizaremos a los datos como pre-procesamiento será la de extraer/generar características de manera manual de algunos atributos que resulta necesario hcaer, como desde la fecha (string) puede ser extraída la hora del día, creando una nueva columna denominada *hour* y de tipo *int* discreto, o bien, para la localización del viaje punto a punto se pueden extraer distintas **medidas de distancia**. Comente sobre el pre-procesamiento realizado.  "
   ]
  },
  {
   "cell_type": "code",
   "execution_count": 9,
   "metadata": {},
   "outputs": [
    {
     "data": {
      "text/html": [
       "<div>\n",
       "<style scoped>\n",
       "    .dataframe tbody tr th:only-of-type {\n",
       "        vertical-align: middle;\n",
       "    }\n",
       "\n",
       "    .dataframe tbody tr th {\n",
       "        vertical-align: top;\n",
       "    }\n",
       "\n",
       "    .dataframe thead th {\n",
       "        text-align: right;\n",
       "    }\n",
       "</style>\n",
       "<table border=\"1\" class=\"dataframe\">\n",
       "  <thead>\n",
       "    <tr style=\"text-align: right;\">\n",
       "      <th></th>\n",
       "      <th>passenger_count</th>\n",
       "      <th>pickup_longitude</th>\n",
       "      <th>pickup_latitude</th>\n",
       "      <th>dropoff_longitude</th>\n",
       "      <th>dropoff_latitude</th>\n",
       "      <th>trip_duration</th>\n",
       "      <th>hour</th>\n",
       "      <th>cday</th>\n",
       "      <th>month</th>\n",
       "      <th>distancia_viaje</th>\n",
       "      <th>distancia_viaje_km</th>\n",
       "      <th>grado_direccion</th>\n",
       "      <th>season</th>\n",
       "      <th>holiday</th>\n",
       "    </tr>\n",
       "  </thead>\n",
       "  <tbody>\n",
       "    <tr>\n",
       "      <th>0</th>\n",
       "      <td>1</td>\n",
       "      <td>-73.982155</td>\n",
       "      <td>40.767937</td>\n",
       "      <td>-73.964630</td>\n",
       "      <td>40.765602</td>\n",
       "      <td>455</td>\n",
       "      <td>17</td>\n",
       "      <td>0</td>\n",
       "      <td>3</td>\n",
       "      <td>0.017680</td>\n",
       "      <td>1.498523</td>\n",
       "      <td>99.970196</td>\n",
       "      <td>1</td>\n",
       "      <td>0</td>\n",
       "    </tr>\n",
       "    <tr>\n",
       "      <th>1</th>\n",
       "      <td>1</td>\n",
       "      <td>-73.980415</td>\n",
       "      <td>40.738564</td>\n",
       "      <td>-73.999481</td>\n",
       "      <td>40.731152</td>\n",
       "      <td>663</td>\n",
       "      <td>0</td>\n",
       "      <td>6</td>\n",
       "      <td>6</td>\n",
       "      <td>0.020456</td>\n",
       "      <td>1.805510</td>\n",
       "      <td>242.846232</td>\n",
       "      <td>2</td>\n",
       "      <td>0</td>\n",
       "    </tr>\n",
       "    <tr>\n",
       "      <th>2</th>\n",
       "      <td>1</td>\n",
       "      <td>-73.979027</td>\n",
       "      <td>40.763939</td>\n",
       "      <td>-74.005333</td>\n",
       "      <td>40.710087</td>\n",
       "      <td>2124</td>\n",
       "      <td>11</td>\n",
       "      <td>1</td>\n",
       "      <td>1</td>\n",
       "      <td>0.059934</td>\n",
       "      <td>6.385108</td>\n",
       "      <td>200.319835</td>\n",
       "      <td>0</td>\n",
       "      <td>0</td>\n",
       "    </tr>\n",
       "    <tr>\n",
       "      <th>3</th>\n",
       "      <td>1</td>\n",
       "      <td>-74.010040</td>\n",
       "      <td>40.719971</td>\n",
       "      <td>-74.012268</td>\n",
       "      <td>40.706718</td>\n",
       "      <td>429</td>\n",
       "      <td>19</td>\n",
       "      <td>2</td>\n",
       "      <td>4</td>\n",
       "      <td>0.013438</td>\n",
       "      <td>1.485501</td>\n",
       "      <td>187.262300</td>\n",
       "      <td>1</td>\n",
       "      <td>0</td>\n",
       "    </tr>\n",
       "    <tr>\n",
       "      <th>4</th>\n",
       "      <td>1</td>\n",
       "      <td>-73.973053</td>\n",
       "      <td>40.793209</td>\n",
       "      <td>-73.972923</td>\n",
       "      <td>40.782520</td>\n",
       "      <td>435</td>\n",
       "      <td>13</td>\n",
       "      <td>5</td>\n",
       "      <td>3</td>\n",
       "      <td>0.010690</td>\n",
       "      <td>1.188590</td>\n",
       "      <td>179.473585</td>\n",
       "      <td>1</td>\n",
       "      <td>0</td>\n",
       "    </tr>\n",
       "  </tbody>\n",
       "</table>\n",
       "</div>"
      ],
      "text/plain": [
       "   passenger_count  pickup_longitude  pickup_latitude  dropoff_longitude  \\\n",
       "0                1        -73.982155        40.767937         -73.964630   \n",
       "1                1        -73.980415        40.738564         -73.999481   \n",
       "2                1        -73.979027        40.763939         -74.005333   \n",
       "3                1        -74.010040        40.719971         -74.012268   \n",
       "4                1        -73.973053        40.793209         -73.972923   \n",
       "\n",
       "   dropoff_latitude  trip_duration  hour  cday  month  distancia_viaje  \\\n",
       "0         40.765602            455    17     0      3         0.017680   \n",
       "1         40.731152            663     0     6      6         0.020456   \n",
       "2         40.710087           2124    11     1      1         0.059934   \n",
       "3         40.706718            429    19     2      4         0.013438   \n",
       "4         40.782520            435    13     5      3         0.010690   \n",
       "\n",
       "   distancia_viaje_km  grado_direccion  season  holiday  \n",
       "0            1.498523        99.970196       1        0  \n",
       "1            1.805510       242.846232       2        0  \n",
       "2            6.385108       200.319835       0        0  \n",
       "3            1.485501       187.262300       1        0  \n",
       "4            1.188590       179.473585       1        0  "
      ]
     },
     "execution_count": 9,
     "metadata": {},
     "output_type": "execute_result"
    }
   ],
   "source": [
    "from geopy.distance import great_circle\n",
    "import numpy as np\n",
    "\"\"\"extraer caract geograficas\"\"\"\n",
    "def distance(p_lat,p_long,d_lat,d_long):\n",
    "    pickup = (p_lat, p_long)\n",
    "    dropoff = (d_lat, d_long)\n",
    "    distance_all=great_circle(pickup, dropoff).km\n",
    "    return distance_all\n",
    "def grado(p_lat,p_long,d_lat,d_long):\n",
    "    lat1= np.radians(p_lat)\n",
    "    lat2= np.radians(d_lat)\n",
    "    dLon = np.radians(d_long - p_long)\n",
    "    y = np.sin(dLon)*np.cos(lat2)\n",
    "    x = np.cos(lat1)*np.sin(lat2) - np.sin(lat1)*np.cos(lat2)*np.cos(dLon)\n",
    "    return (np.degrees( np.arctan2(y,x) ) + 360 ) %360\n",
    "from pandas.tseries.holiday import USFederalHolidayCalendar\n",
    "cal = USFederalHolidayCalendar()\n",
    "holidays = cal.holidays(start='2015',end='2017')\n",
    "def preprocesar(df):\n",
    "    df.fillna(0,inplace=True)\n",
    "    \"\"\"transformar fechas a tiempos\"\"\"\n",
    "    df['hour'] = pd.to_datetime(df['pickup_datetime']).dt.hour\n",
    "    df['hour'] = pd.to_numeric(df['hour'])\n",
    "    df['cday'] = pd.to_datetime(df['pickup_datetime']).dt.dayofweek #0:lunes,6:domingo\n",
    "    df['cday'] = pd.to_numeric(df['cday'])\n",
    "    df['month'] = pd.to_datetime(df['pickup_datetime']).dt.month #1:enero, 12: diciembre\n",
    "    df['month'] = pd.to_numeric(df['month'])\n",
    "    \"\"\"Feature Generation\"\"\"\n",
    "        df['distancia_viaje'] = np.sqrt( np.square(df['pickup_longitude']-df['dropoff_longitude']) \n",
    "                                    + np.square(df['pickup_latitude']-df['dropoff_latitude'])) #euclideana\n",
    "    distancia_real_aprox = [ distance(df['pickup_latitude'].values[i], \n",
    "                                 df['pickup_longitude'].values[i],\n",
    "                                 df['dropoff_latitude'].values[i],\n",
    "                                 df['dropoff_longitude'].values[i]) for i in range(len(df['pickup_latitude']))]\n",
    "    df['distancia_viaje_km'] = distancia_real_aprox\n",
    "    df['grado_direccion'] = [ grado(df['pickup_latitude'].values[i],  #agregar direccion (en base a grado)\n",
    "                                 df['pickup_longitude'].values[i],\n",
    "                                 df['dropoff_latitude'].values[i],\n",
    "                                 df['dropoff_longitude'].values[i]) for i in range(len(df['pickup_latitude']))]\n",
    "    seasons = [0,0,1,1,1,2]  #0: winter, 1: spring, 2: summer\n",
    "    df['season'] = [ seasons[df['month'].values[i] - 1] for i in range(len(df['month'])) ]  #agregar temporada\n",
    "    df['holiday'] = df['pickup_datetime'].isin(holidays) #holidays\n",
    "    \"\"\" Eliminar columnas -- limpiar\"\"\"\n",
    "    df.drop([\"pickup_datetime\",\"dropoff_datetime\",\"id\",\"vendor_id\",\"store_and_fwd_flag\"], axis=1,inplace=True)\n",
    "    df[\"holiday\"] = df[\"holiday\"].astype('category')#a categorico\n",
    "    \"\"\"codifica\"\"\"\n",
    "    cat_columns = df.select_dtypes(['category']).columns\n",
    "    df[cat_columns] = df[cat_columns].apply(lambda x: x.cat.codes)\n",
    "preprocesar(df)\n",
    "df.head()"
   ]
  },
  {
   "cell_type": "code",
   "execution_count": 21,
   "metadata": {},
   "outputs": [],
   "source": [
    "df2 = df.copy()"
   ]
  },
  {
   "cell_type": "markdown",
   "metadata": {},
   "source": [
    "Se generan nuevas caracteristicas de utilidad a partir de los datos que vienen con el dataset por defecto, se obtiene la distancia entre el punto de recogida y el punto de llegada por medio de la distancia euclidiana utilizando las coordenadas de dichos puntos, luego se calcula la distancia en kilometros por medio de la distancia basada en great_circle la cual se basa en la cual calcula la distancia mínima sobre la superficie de una esfera.\n",
    "\n",
    "Además con la información del tiempo de recogida y llegada se determina en que época del año, mes, día y hora se realiza el viaje, gracias a esto es posible tomar en cuenta si la hora corresponde a una hora peak y si el día es feriado o no. El caso de la época puede ser de utilidad dado que en días con más lluvia el transito generalmente es más lento.\n",
    "\n",
    "\n",
    "Se eliminan del dataset columnas que se consideran inutiles para la predicción, estas corresponden a pickup_datetime,dropoff_datetime, id, vendor_id, store_and_fwd_flag."
   ]
  },
  {
   "cell_type": "markdown",
   "metadata": {},
   "source": [
    "> d) Cree las estructuras de los datos a utilizar, además de crear el conjunto de pruebas para validar los modelos ¿Cuáles son las dimensiones de cada conjunto? Normalice los datos, elija algún *scaler* y comente sobre su decisión."
   ]
  },
  {
   "cell_type": "code",
   "execution_count": 10,
   "metadata": {},
   "outputs": [],
   "source": [
    "y = df['trip_duration'].values\n",
    "df.drop(\"trip_duration\",axis=1,inplace=True)\n",
    "X = df.values\n",
    "from sklearn.model_selection import train_test_split\n",
    "X_train, X_test, y_train, y_test = train_test_split(X, y, test_size=0.3, random_state=42)\n",
    "X_train, X_val, y_train, y_val = train_test_split(X_train, y_train, test_size=0.25, random_state=42)\n",
    "from sklearn.preprocessing import RobustScaler,StandardScaler\n",
    "#scaler = StandardScaler(with_mean=True, with_std=True)\n",
    "scaler = RobustScaler(with_centering=True, with_scaling=True)\n",
    "scaler.fit(X_train)\n",
    "X_train_scaled = scaler.transform(X_train)\n",
    "X_val_scaled = scaler.transform(X_val)\n",
    "X_test_scaled = scaler.transform(X_test)"
   ]
  },
  {
   "cell_type": "markdown",
   "metadata": {},
   "source": [
    "Se utilizo RobustScaler debido a los outliers que se presentan en el dataset, este escalador funciona utilizando la mediana y el rango intercuartilico los cuales son estadisticos resistentes a outliers."
   ]
  },
  {
   "cell_type": "code",
   "execution_count": 11,
   "metadata": {},
   "outputs": [
    {
     "name": "stdout",
     "output_type": "stream",
     "text": [
      "Conjunto X_training: (765786, 13)\n",
      "Conjunto y_train: (765786,)\n",
      "Conjunto X_testing: (437592, 13)\n",
      "Conjunto y_test: (437592,)\n"
     ]
    }
   ],
   "source": [
    "print(\"Conjunto X_training:\",X_train_scaled.shape)\n",
    "print(\"Conjunto y_train:\",y_train.shape)\n",
    "print(\"Conjunto X_testing:\",X_test_scaled.shape)\n",
    "print(\"Conjunto y_test:\",y_test.shape)"
   ]
  },
  {
   "cell_type": "markdown",
   "metadata": {},
   "source": [
    "El conjunto de entrenamiento posee 1021048 filas de ejemplos con 13 atributos, el conjunto de testing tiene un total de 437592 filas."
   ]
  },
  {
   "cell_type": "code",
   "execution_count": 12,
   "metadata": {},
   "outputs": [],
   "source": [
    "from sklearn.utils import resample\n",
    "\n",
    "X_train_sample, y_train_sample = resample(X_train_scaled, y_train, n_samples=100000)\n",
    "X_test_sample, y_test_sample = resample(X_test_scaled, y_test, n_samples=50000)"
   ]
  },
  {
   "cell_type": "code",
   "execution_count": 13,
   "metadata": {},
   "outputs": [
    {
     "name": "stdout",
     "output_type": "stream",
     "text": [
      "Conjunto X_training: (100000, 13)\n",
      "Conjunto y_train: (100000,)\n",
      "Conjunto X_testing: (50000, 13)\n",
      "Conjunto y_test: (50000,)\n"
     ]
    }
   ],
   "source": [
    "print(\"Conjunto X_training:\",X_train_sample.shape)\n",
    "print(\"Conjunto y_train:\",y_train_sample.shape)\n",
    "print(\"Conjunto X_testing:\",X_test_sample.shape)\n",
    "print(\"Conjunto y_test:\",y_test_sample.shape)"
   ]
  },
  {
   "cell_type": "markdown",
   "metadata": {},
   "source": [
    "> e) En base a la definición del problema de ésta sección y a lo experimentado en la sección 1, escoga un modelo de aprendizaje para experimentar en la predicción de la duración del viaje, comente sobre su decisión. Entrene el modelo escogido, usando parámetros por defecto, sobre la representación escalada generada anteriormente y mida el error de la competencia RMSLE sobre ambos conjuntos, comente."
   ]
  },
  {
   "cell_type": "code",
   "execution_count": 14,
   "metadata": {},
   "outputs": [],
   "source": [
    "from sklearn.svm import LinearSVR\n",
    "\n",
    "def do_SVR(X_train, y_train, c=1.0, epsil=0.1):\n",
    "    model = LinearSVR(C=c, epsilon=epsil) #SVM, Decision Trees or Neural Network\n",
    "    model.fit(X_train,y_train)\n",
    "    return model\n",
    "\n",
    "\n",
    "model = do_SVR(X_train_scaled, y_train)"
   ]
  },
  {
   "cell_type": "markdown",
   "metadata": {},
   "source": [
    "from keras import backend as K\n",
    "\n",
    "def RMSLE(y_true, y_pred):\n",
    "        return K.sqrt(K.mean(K.square(K.log(abs(y_true) + 1) - K.log(abs(y_pred) + 1)), axis=-1)) \n"
   ]
  },
  {
   "cell_type": "markdown",
   "metadata": {},
   "source": [
    "from keras.models import Sequential\n",
    "from keras.layers import Dense\n",
    "from keras.wrappers.scikit_learn import KerasRegressor\n",
    "from keras import regularizers\n",
    "\n",
    "def neural(X_train, y_train):\n",
    "    model = Sequential()\n",
    "    model.add(Dense(4, input_dim=13, activation='relu', kernel_initializer='normal'))\n",
    "    model.add(Dense(4, activation='relu', kernel_initializer='normal'))\n",
    "    model.add(Dense(1, activation='linear', kernel_initializer='normal'))\n",
    "    model.compile(loss=RMSLE, optimizer='adam')\n",
    "    model.fit(X_train, y_train, epochs=2, verbose=1)\n",
    "    return model"
   ]
  },
  {
   "cell_type": "markdown",
   "metadata": {},
   "source": [
    "neur = neural(X_train_scaled, y_train)"
   ]
  },
  {
   "cell_type": "code",
   "execution_count": 15,
   "metadata": {},
   "outputs": [
    {
     "name": "stdout",
     "output_type": "stream",
     "text": [
      "LinearSVR:\n",
      "ERROR RMSLE de training:  0.5321723547598851\n",
      "ERROR RMSLE de test:  0.533897357365962\n"
     ]
    }
   ],
   "source": [
    "print(\"LinearSVR:\")\n",
    "print(\"ERROR RMSLE de training: \",rmsle(model.predict(X_train_scaled),y_train))\n",
    "print(\"ERROR RMSLE de test: \",rmsle(model.predict(X_test_scaled),y_test))"
   ]
  },
  {
   "cell_type": "markdown",
   "metadata": {},
   "source": [
    "> f) Grafique las predicciones generadas por su modelo *vs* el valor real ¿Cuál es el comportamiento esperado? ¿Su resultado se asemeja a éste? ¿Por qué?"
   ]
  },
  {
   "cell_type": "code",
   "execution_count": 16,
   "metadata": {},
   "outputs": [
    {
     "data": {
      "image/png": "[encoded data removed]",
      "text/plain": [
       "<Figure size 864x576 with 1 Axes>"
      ]
     },
     "metadata": {
      "needs_background": "light"
     },
     "output_type": "display_data"
    }
   ],
   "source": [
    "def graficar_predicciones(real,predecido, titulo):\n",
    "    plt.figure(figsize=(12,8))\n",
    "    plt.plot(real,predecido,'b.')\n",
    "    valor_max = int( np.max( [np.max(predecido),np.max(real)]))\n",
    "    valor_min = int( np.min( [np.min(predecido),np.min(real)]))\n",
    "    plt.plot(range(valor_min,valor_max+1), range(valor_min,valor_max+1), color =\"r\")\n",
    "    plt.axis('tight')\n",
    "    plt.title(titulo)\n",
    "    plt.xlabel('Valor Real')\n",
    "    plt.ylabel('Prediccion')\n",
    "    plt.show()\n",
    "graficar_predicciones(y_test,model.predict(X_test_scaled), \"LinearSVR\")\n"
   ]
  },
  {
   "cell_type": "markdown",
   "metadata": {},
   "source": [
    "> g) Mejore el desempeño del modelo de aprendizaje definido en e) haciendo modificaciones a los hiper-parámetros del modelo. Por ejemplo, tener ojo con el sobre-ajuste del modelo. Naturalmente, está absolutamente prohibido tomar este tipo de decisiones en función del resultado de pruebas. Debe realizar estas elecciones evaluando sobre el conjunto de validación. Si no desea utilizarlo, y prefiere implementar validación cruzada u otra técnica automática, tiene la ventaja de poder usar el conjunto de validación como parte del entrenamiento. "
   ]
  },
  {
   "cell_type": "code",
   "execution_count": 17,
   "metadata": {},
   "outputs": [],
   "source": [
    "epsilons = [0.001, 0.01, 0.1, 1, 10, 100]\n",
    "Cs = [0.001, 0.01, 1, 10, 100]\n",
    "\n",
    "from sklearn.model_selection import KFold\n",
    "\n",
    "def validation(param, cs=0):\n",
    "    if param=='Cs':\n",
    "        params = Cs\n",
    "    else:\n",
    "        params = epsilons\n",
    "    rmsles = list()\n",
    "    for i in params:\n",
    "        rmsle_ = 0\n",
    "        model = LinearSVR()\n",
    "        if param==\"Cs\":\n",
    "            model.set_params(C=i)\n",
    "        else:\n",
    "            model.set_params(epsilon=i, C=cs)\n",
    "        model.fit(X_train_scaled, y_train)\n",
    "        rmsle_ = rmsle(model.predict(X_val_scaled), y_val)\n",
    "        rmsles.append(rmsle_)\n",
    "    return rmsles"
   ]
  },
  {
   "cell_type": "code",
   "execution_count": 18,
   "metadata": {},
   "outputs": [],
   "source": [
    "#print(\"RMSLES de C:\",validation('Cs'))"
   ]
  },
  {
   "cell_type": "code",
   "execution_count": 19,
   "metadata": {},
   "outputs": [
    {
     "name": "stdout",
     "output_type": "stream",
     "text": [
      "RMSLES de epsilon: [0.530308006514216, 0.5303479424932317, 0.5302733588268472, 0.5303042164436916, 0.5303849388801154, 0.5328890837109719]\n"
     ]
    }
   ],
   "source": [
    "print(\"RMSLES de epsilon:\",validation(\"epsilon\", cs=0.01))"
   ]
  },
  {
   "cell_type": "code",
   "execution_count": 20,
   "metadata": {},
   "outputs": [],
   "source": [
    "model2 = do_SVR(X_train, y_train, c=0.01, epsil=1)"
   ]
  },
  {
   "cell_type": "markdown",
   "metadata": {},
   "source": [
    "> h) Mejore el modelo de aprendizaje definido en el punto anterior, g), haciendo modificaciones sobre la representación utilizada para aprender desde los datos, es decir, *feature engineering* [[6]](#refs). Ya sea añadir nuevas características (puede inspirarse en los __[códigos](https://www.kaggle.com/c/nyc-taxi-trip-duration/kernels)__ de la gente en la competencia), como por ejemplo rescatar algo más de la fecha, como el año o los minutos, o algo de la ubicación y la distancia geográfica. También está la opción de utilizar lo visto en la tarea 1, de *feature selection* con FSS, *Mutual Information*, etc. Sea creativo, este paso le debiese reportar un salto de calidad muy significativo (RMSLE disminuir en 0.1 sobre el conjunto de pruebas)."
   ]
  },
  {
   "cell_type": "code",
   "execution_count": null,
   "metadata": {},
   "outputs": [],
   "source": [
    "df2['distancia_viaje'] = (abs(df2['pickup_longitude'] - df2['dropoff_longitude']) + \n",
    "                                 abs(df2['pickup_latitude'] - df2['dropoff_latitude']))"
   ]
  },
  {
   "cell_type": "markdown",
   "metadata": {},
   "source": [
    "Calcular velocidad promedio y eliminar valores sobre 50 km/h"
   ]
  },
  {
   "cell_type": "code",
   "execution_count": null,
   "metadata": {},
   "outputs": [],
   "source": []
  },
  {
   "cell_type": "code",
   "execution_count": null,
   "metadata": {},
   "outputs": [],
   "source": [
    "from sklearn.feature_selection import mutual_info_regression\n",
    "minfo_predictor = mutual_info_regression(X_train_scaled,y_train)"
   ]
  },
  {
   "cell_type": "markdown",
   "metadata": {},
   "source": [
    "Quitar duracion menor a 5*60 y mayor a 22*3600\n",
    "eliminar viajes de distancia menor a 100 y mayor a 100000"
   ]
  }
 ],
 "metadata": {
  "kernelspec": {
   "display_name": "Python 3",
   "language": "python",
   "name": "python3"
  },
  "language_info": {
   "codemirror_mode": {
    "name": "ipython",
    "version": 3
   },
   "file_extension": ".py",
   "mimetype": "text/x-python",
   "name": "python",
   "nbconvert_exporter": "python",
   "pygments_lexer": "ipython3",
   "version": "3.6.6"
  }
 },
 "nbformat": 4,
 "nbformat_minor": 2
}
